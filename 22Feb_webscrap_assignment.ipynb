{
 "cells": [
  {
   "cell_type": "markdown",
   "id": "d7589c10-73c5-439f-8aa3-81035636d40b",
   "metadata": {},
   "source": [
    "### Go to this given URL and solve the following questions\n",
    "#### URL: https://www.youtube.com/@PW-Foundation/videos"
   ]
  },
  {
   "cell_type": "code",
   "execution_count": 1,
   "id": "3440aa05-be65-47e9-b424-6c1eaeb077fd",
   "metadata": {},
   "outputs": [
    {
     "name": "stdout",
     "output_type": "stream",
     "text": [
      "Requirement already satisfied: selenium in c:\\users\\dhane\\anaconda3\\lib\\site-packages (4.22.0)\n",
      "Requirement already satisfied: urllib3[socks]<3,>=1.26 in c:\\users\\dhane\\anaconda3\\lib\\site-packages (from selenium) (1.26.18)\n",
      "Requirement already satisfied: trio~=0.17 in c:\\users\\dhane\\anaconda3\\lib\\site-packages (from selenium) (0.26.0)\n",
      "Requirement already satisfied: trio-websocket~=0.9 in c:\\users\\dhane\\anaconda3\\lib\\site-packages (from selenium) (0.11.1)\n",
      "Requirement already satisfied: certifi>=2021.10.8 in c:\\users\\dhane\\anaconda3\\lib\\site-packages (from selenium) (2023.11.17)\n",
      "Requirement already satisfied: typing_extensions>=4.9.0 in c:\\users\\dhane\\anaconda3\\lib\\site-packages (from selenium) (4.9.0)\n",
      "Requirement already satisfied: websocket-client>=1.8.0 in c:\\users\\dhane\\anaconda3\\lib\\site-packages (from selenium) (1.8.0)\n",
      "Requirement already satisfied: attrs>=23.2.0 in c:\\users\\dhane\\anaconda3\\lib\\site-packages (from trio~=0.17->selenium) (23.2.0)\n",
      "Requirement already satisfied: sortedcontainers in c:\\users\\dhane\\anaconda3\\lib\\site-packages (from trio~=0.17->selenium) (2.4.0)\n",
      "Requirement already satisfied: idna in c:\\users\\dhane\\anaconda3\\lib\\site-packages (from trio~=0.17->selenium) (3.4)\n",
      "Requirement already satisfied: outcome in c:\\users\\dhane\\anaconda3\\lib\\site-packages (from trio~=0.17->selenium) (1.3.0.post0)\n",
      "Requirement already satisfied: sniffio>=1.3.0 in c:\\users\\dhane\\anaconda3\\lib\\site-packages (from trio~=0.17->selenium) (1.3.0)\n",
      "Requirement already satisfied: cffi>=1.14 in c:\\users\\dhane\\anaconda3\\lib\\site-packages (from trio~=0.17->selenium) (1.16.0)\n",
      "Requirement already satisfied: wsproto>=0.14 in c:\\users\\dhane\\anaconda3\\lib\\site-packages (from trio-websocket~=0.9->selenium) (1.2.0)\n",
      "Requirement already satisfied: PySocks!=1.5.7,<2.0,>=1.5.6 in c:\\users\\dhane\\anaconda3\\lib\\site-packages (from urllib3[socks]<3,>=1.26->selenium) (1.7.1)\n",
      "Requirement already satisfied: pycparser in c:\\users\\dhane\\anaconda3\\lib\\site-packages (from cffi>=1.14->trio~=0.17->selenium) (2.21)\n",
      "Requirement already satisfied: h11<1,>=0.9.0 in c:\\users\\dhane\\anaconda3\\lib\\site-packages (from wsproto>=0.14->trio-websocket~=0.9->selenium) (0.14.0)\n",
      "Note: you may need to restart the kernel to use updated packages.\n"
     ]
    }
   ],
   "source": [
    "pip install selenium"
   ]
  },
  {
   "cell_type": "code",
   "execution_count": 2,
   "id": "e1b62758-248a-4ca3-8369-0b6ab116f1d4",
   "metadata": {},
   "outputs": [
    {
     "name": "stdout",
     "output_type": "stream",
     "text": [
      "Requirement already satisfied: bs4 in c:\\users\\dhane\\anaconda3\\lib\\site-packages (0.0.2)Note: you may need to restart the kernel to use updated packages.\n",
      "\n",
      "Requirement already satisfied: beautifulsoup4 in c:\\users\\dhane\\anaconda3\\lib\\site-packages (from bs4) (4.12.2)\n",
      "Requirement already satisfied: soupsieve>1.2 in c:\\users\\dhane\\anaconda3\\lib\\site-packages (from beautifulsoup4->bs4) (2.5)\n"
     ]
    }
   ],
   "source": [
    "pip install bs4"
   ]
  },
  {
   "cell_type": "code",
   "execution_count": 4,
   "id": "812374bb-67f6-4779-a256-359435e7a53a",
   "metadata": {},
   "outputs": [],
   "source": [
    "from selenium import webdriver\n",
    "import pandas as pd\n",
    "from selenium.webdriver.common.by import By\n",
    "from bs4 import BeautifulSoup"
   ]
  },
  {
   "cell_type": "code",
   "execution_count": 5,
   "id": "6c8b7059-3d44-4eba-a50f-d52fed7a1ddb",
   "metadata": {},
   "outputs": [
    {
     "name": "stderr",
     "output_type": "stream",
     "text": [
      "There was an error managing chromedriver (error sending request for url (https://googlechromelabs.github.io/chrome-for-testing/known-good-versions-with-downloads.json)); using driver found in the cache\n"
     ]
    }
   ],
   "source": [
    "browser = webdriver.Chrome()"
   ]
  },
  {
   "cell_type": "code",
   "execution_count": 6,
   "id": "443917f5-35bc-4d89-a31f-79e1523487f5",
   "metadata": {},
   "outputs": [],
   "source": [
    "url = \"https://www.youtube.com/@PW-Foundation/videos\""
   ]
  },
  {
   "cell_type": "code",
   "execution_count": 7,
   "id": "6320b3d8-04c8-4e07-a6ac-d8f41cb66b85",
   "metadata": {},
   "outputs": [],
   "source": [
    "browser.get(url)"
   ]
  },
  {
   "cell_type": "markdown",
   "id": "3d9bf836-0d11-4777-890e-7c96df11f096",
   "metadata": {},
   "source": [
    "#### Q1. Write a python program to extract the video URL of the first five videos."
   ]
  },
  {
   "cell_type": "code",
   "execution_count": 8,
   "id": "e29aaa32-d278-4c91-a9f9-6a61d0bca7bc",
   "metadata": {},
   "outputs": [
    {
     "data": {
      "text/plain": [
       "['https://www.youtube.com/watch?v=6gzDoIKlQvI',\n",
       " 'https://www.youtube.com/watch?v=W5XUcAkjFRk',\n",
       " 'https://www.youtube.com/watch?v=h9ioLJRgZtw',\n",
       " 'https://www.youtube.com/watch?v=JALxYbZ0zEg',\n",
       " 'https://www.youtube.com/watch?v=8delcKigT7w']"
      ]
     },
     "execution_count": 8,
     "metadata": {},
     "output_type": "execute_result"
    }
   ],
   "source": [
    "#Finding Video Url by using Tag Name\n",
    "links = browser.find_elements(By.TAG_NAME,\"a\")\n",
    "video_urls = []\n",
    "for i in links:\n",
    "    url = i.get_attribute(\"href\")\n",
    "    video_urls.append(url)\n",
    "    \n",
    "first_5_video_links = []\n",
    "for url in video_urls:\n",
    "    if url == None or \"/watch?v=\" not in url or url in first_5_video_links:\n",
    "        continue\n",
    "    else:\n",
    "        if len(first_5_video_links) == 5:\n",
    "            break\n",
    "        first_5_video_links.append(url)\n",
    "first_5_video_links"
   ]
  },
  {
   "cell_type": "markdown",
   "id": "b5e53c1d-7fe8-462b-bf08-356842827417",
   "metadata": {},
   "source": [
    "#### Q2. Write a python program to extract the URL of the video thumbnails of the first five videos."
   ]
  },
  {
   "cell_type": "code",
   "execution_count": 9,
   "id": "84b91c7e-0131-4364-be5f-3261b9fd7028",
   "metadata": {},
   "outputs": [
    {
     "data": {
      "text/plain": [
       "['https://i.ytimg.com/vi/6gzDoIKlQvI/hqdefault.jpg?sqp=-oaymwEcCNACELwBSFXyq4qpAw4IARUAAIhCGAFwAcABBg==&rs=AOn4CLAIz04tcM2wrQlns2BbRNDr2XO5ig',\n",
       " 'https://i.ytimg.com/vi/W5XUcAkjFRk/hqdefault.jpg?sqp=-oaymwEcCNACELwBSFXyq4qpAw4IARUAAIhCGAFwAcABBg==&rs=AOn4CLCDS-hdTWy_GXBz2rBnD70ys6KpXQ',\n",
       " 'https://i.ytimg.com/vi/h9ioLJRgZtw/hqdefault.jpg?sqp=-oaymwEcCNACELwBSFXyq4qpAw4IARUAAIhCGAFwAcABBg==&rs=AOn4CLB6W7jWsg9MdYIRSj238jXCyXlWfg',\n",
       " 'https://i.ytimg.com/vi/JALxYbZ0zEg/hqdefault.jpg?sqp=-oaymwEcCNACELwBSFXyq4qpAw4IARUAAIhCGAFwAcABBg==&rs=AOn4CLB0izNZPVUxFpSgwiPXS3fPtvoA3A',\n",
       " 'https://i.ytimg.com/vi/8delcKigT7w/hqdefault.jpg?sqp=-oaymwEcCNACELwBSFXyq4qpAw4IARUAAIhCGAFwAcABBg==&rs=AOn4CLD8gCQOjJMUHK2LNeSkK3w9FA3YFw',\n",
       " 'https://i.ytimg.com/vi/jvVwnL2Q2OY/hqdefault.jpg?sqp=-oaymwEcCNACELwBSFXyq4qpAw4IARUAAIhCGAFwAcABBg==&rs=AOn4CLA019-v0xVvSgzS7W1IbYsvJ9Q9Eg',\n",
       " 'https://i.ytimg.com/vi/dpyzJzJLfYU/hqdefault.jpg?sqp=-oaymwEcCNACELwBSFXyq4qpAw4IARUAAIhCGAFwAcABBg==&rs=AOn4CLC5rOsULPutUNw0ETQDVlTl-swKaA',\n",
       " 'https://i.ytimg.com/vi/8LYxx9SrdFw/hqdefault.jpg?sqp=-oaymwEcCNACELwBSFXyq4qpAw4IARUAAIhCGAFwAcABBg==&rs=AOn4CLDD4EQn4lH4QMouGbkHTNBtOLPmNA',\n",
       " 'https://i.ytimg.com/vi/Er6JXjQQA3E/hqdefault.jpg?sqp=-oaymwEcCNACELwBSFXyq4qpAw4IARUAAIhCGAFwAcABBg==&rs=AOn4CLDbnvTlcgbwZW-0852JKAu68138HQ',\n",
       " 'https://i.ytimg.com/vi/zbXuB3wquYM/hqdefault.jpg?sqp=-oaymwEcCNACELwBSFXyq4qpAw4IARUAAIhCGAFwAcABBg==&rs=AOn4CLBwBmpftyom4spvUhZKVRf4id_sBQ',\n",
       " 'https://i.ytimg.com/vi/8pdXtNYisok/hqdefault.jpg?sqp=-oaymwEcCNACELwBSFXyq4qpAw4IARUAAIhCGAFwAcABBg==&rs=AOn4CLBZ19E35DPwj-pGwREZlVvRPmuwCQ',\n",
       " 'https://i.ytimg.com/vi/Aes_FTqyFaI/hqdefault.jpg?sqp=-oaymwEcCNACELwBSFXyq4qpAw4IARUAAIhCGAFwAcABBg==&rs=AOn4CLBTznOv63kLmDKXNPwMn5N2Oue0dA',\n",
       " 'https://i.ytimg.com/vi/5bRZ5yYF5Mw/hqdefault.jpg?sqp=-oaymwEcCNACELwBSFXyq4qpAw4IARUAAIhCGAFwAcABBg==&rs=AOn4CLDqrIEoOIgMisfyEdnXNazjxORNzw',\n",
       " 'https://i.ytimg.com/vi/kGGlONm9GW0/hqdefault.jpg?sqp=-oaymwEcCNACELwBSFXyq4qpAw4IARUAAIhCGAFwAcABBg==&rs=AOn4CLCrcnK4z60xMrnpkhFRnr1oE0QGaQ',\n",
       " 'https://i.ytimg.com/vi/aBLasjkB4UU/hqdefault.jpg?sqp=-oaymwEcCNACELwBSFXyq4qpAw4IARUAAIhCGAFwAcABBg==&rs=AOn4CLCIlj5ojb7_H_hyU-SzhOQTw_1sPQ',\n",
       " 'https://i.ytimg.com/vi/fXDjD7Nd1OA/hqdefault.jpg?sqp=-oaymwEcCNACELwBSFXyq4qpAw4IARUAAIhCGAFwAcABBg==&rs=AOn4CLAc6QWsNAhzB4BX0QuxU3Jb-8LziQ',\n",
       " 'https://i.ytimg.com/vi/jyXIhE28Enc/hqdefault.jpg?sqp=-oaymwEcCNACELwBSFXyq4qpAw4IARUAAIhCGAFwAcABBg==&rs=AOn4CLBUmHFUqp1W1qsErNNnTLpV7Yy6NQ',\n",
       " 'https://i.ytimg.com/vi/tfEDlFVgOyk/hqdefault.jpg?sqp=-oaymwEcCNACELwBSFXyq4qpAw4IARUAAIhCGAFwAcABBg==&rs=AOn4CLBjhuZ-IQvf1-Glxq46tB0KdwUx7w',\n",
       " 'https://i.ytimg.com/vi/kzn8v4nmyCY/hqdefault.jpg?sqp=-oaymwEcCNACELwBSFXyq4qpAw4IARUAAIhCGAFwAcABBg==&rs=AOn4CLBO5SUHPHk-yOyS7uHakhu7hAx_Ug',\n",
       " 'https://i.ytimg.com/vi/ZuY64wUksww/hqdefault.jpg?sqp=-oaymwE2CNACELwBSFXyq4qpAygIARUAAIhCGAFwAcABBvABAfgB_gmAAtAFigIMCAAQARhlIGUoZTAP&rs=AOn4CLBf0fMXgzTuM9emnaZD_pS64bLn1w',\n",
       " 'https://i.ytimg.com/vi/zsRKgg1WUg4/hqdefault.jpg?sqp=-oaymwEcCNACELwBSFXyq4qpAw4IARUAAIhCGAFwAcABBg==&rs=AOn4CLCxdCtpZ_OM95RzjNEs67G-I5sL2Q',\n",
       " 'Url Not found']"
      ]
     },
     "execution_count": 9,
     "metadata": {},
     "output_type": "execute_result"
    }
   ],
   "source": [
    "thumbnail = browser.find_elements(By.XPATH,\"//*[@id='thumbnail']/yt-image/img\")\n",
    "thumbnail_list=[]\n",
    "for i in thumbnail:\n",
    "    t=i.get_attribute(\"src\")\n",
    "    if t == None:\n",
    "        continue\n",
    "    thumbnail_list.append(t)\n",
    "    \n",
    "thumbnail_list.append(\"Url Not found\")\n",
    "thumbnail_list"
   ]
  },
  {
   "cell_type": "markdown",
   "id": "e82f5beb-0d76-420a-a211-1cf8fa1895bb",
   "metadata": {},
   "source": [
    "#### Q3. Write a python program to extract the title of the first five videos."
   ]
  },
  {
   "cell_type": "code",
   "execution_count": 10,
   "id": "c51d7032-7995-401d-87f3-cf5de3dde09b",
   "metadata": {},
   "outputs": [
    {
     "data": {
      "text/plain": [
       "['Full Marks का डर खत्म 😌 Complete Roadmap for MATHS 🔥 Class 10th BOARDS',\n",
       " 'UDAY 2.0 2025 Batch for Class 11th SCIENCE : सपनों की एक पहचान !! 🔥',\n",
       " 'Arjuna JEE/NEET 3.0 2025 Batch किन बच्चों के लिए है ? 🤔🔥',\n",
       " 'PW CHAMPIONS LEAGUE - Official Teaser | COUNT DOWN BEGINS ⌛',\n",
       " 'Complete Roadmap to make Career in LAW 🎯 | Start Your Preparation Now @PWCLAT']"
      ]
     },
     "execution_count": 10,
     "metadata": {},
     "output_type": "execute_result"
    }
   ],
   "source": [
    "#Finding Title by using TagName\n",
    "yt_link=browser.find_elements(By.TAG_NAME, \"yt-formatted-string\")\n",
    "link =[]\n",
    "for i in yt_link:\n",
    "    temp=i.text\n",
    "    link.append(temp)\n",
    "link=link[26:]\n",
    "title = []\n",
    "for i in link:\n",
    "    if i == '':\n",
    "        continue\n",
    "    else:\n",
    "        if len(title)==5:\n",
    "            break\n",
    "        title.append(i)\n",
    "        \n",
    "title"
   ]
  },
  {
   "cell_type": "code",
   "execution_count": 11,
   "id": "5c75bf8a-6714-401f-bb40-8faeeb8028ec",
   "metadata": {},
   "outputs": [
    {
     "data": {
      "text/plain": [
       "['UNBOXING of Science EXPERIMENT KIT for Class 8th to 10th 🤩🔥',\n",
       " 'GURU PURNIMA Wishes to all our PWians !!❤️🙏🏻',\n",
       " 'Full Marks का डर खत्म 😌 Complete Roadmap for MATHS 🔥 Class 10th BOARDS',\n",
       " 'UDAY 2.0 2025 Batch for Class 11th SCIENCE : सपनों की एक पहचान !! 🔥',\n",
       " 'Arjuna JEE/NEET 3.0 2025 Batch किन बच्चों के लिए है ? 🤔🔥']"
      ]
     },
     "execution_count": 11,
     "metadata": {},
     "output_type": "execute_result"
    }
   ],
   "source": [
    "#Finding First 5 Title by using XPath\n",
    "you_link = browser.find_elements(By.XPATH,\"//*[@id='video-title']\")\n",
    "title_list = []\n",
    "for i in you_link:\n",
    "    t=i.text\n",
    "    if len(title_list) ==5:\n",
    "        break\n",
    "    title_list.append(t)\n",
    "    \n",
    "title_list"
   ]
  },
  {
   "cell_type": "markdown",
   "id": "1b3daa84-d979-4529-b5da-f6581d2321d6",
   "metadata": {},
   "source": [
    "#### Q4. Write a python program to extract the number of views of the first five videos"
   ]
  },
  {
   "cell_type": "code",
   "execution_count": 12,
   "id": "4377bcc7-5caf-44ba-b4c4-1d430ad94e21",
   "metadata": {},
   "outputs": [
    {
     "data": {
      "text/plain": [
       "['32K views', '26K views', '135K views', '25K views', '31K views']"
      ]
     },
     "execution_count": 12,
     "metadata": {},
     "output_type": "execute_result"
    }
   ],
   "source": [
    "views=browser.find_elements(By.XPATH,\"//*[@id='metadata-line']/span[1]\")\n",
    "views_list=[]\n",
    "for i in views:\n",
    "    t=i.text\n",
    "    if len(views_list) ==5:\n",
    "        break\n",
    "    views_list.append(t)\n",
    "    \n",
    "views_list"
   ]
  },
  {
   "cell_type": "markdown",
   "id": "84bce80e-1703-4e7b-ab30-9476749cda2c",
   "metadata": {},
   "source": [
    "#### Q5. Write a python program to extract the time of posting of video for the first five videos."
   ]
  },
  {
   "cell_type": "code",
   "execution_count": 13,
   "id": "7de95092-5bf5-4911-b0c1-9f08dd7b5936",
   "metadata": {},
   "outputs": [
    {
     "data": {
      "text/plain": [
       "['2 days ago', '6 days ago', '2 weeks ago', '2 weeks ago', '2 weeks ago']"
      ]
     },
     "execution_count": 13,
     "metadata": {},
     "output_type": "execute_result"
    }
   ],
   "source": [
    "timee = browser.find_elements(By.XPATH,\"//*[@id='metadata-line']/span[2]\")\n",
    "time_list = []\n",
    "for i in timee:\n",
    "    t=i.text\n",
    "    if len(time_list) ==5:\n",
    "        break\n",
    "    time_list.append(t)\n",
    "    \n",
    "time_list"
   ]
  },
  {
   "cell_type": "markdown",
   "id": "4b3fd773-5818-4cff-b8fa-d08ca51eba40",
   "metadata": {},
   "source": [
    "#### Q6. Save all the data scraped in the above questions in a CSV file."
   ]
  },
  {
   "cell_type": "code",
   "execution_count": 14,
   "id": "72bca72c-ddbd-46c1-b9c4-2feffdf5a1a0",
   "metadata": {},
   "outputs": [],
   "source": [
    "import csv"
   ]
  },
  {
   "cell_type": "code",
   "execution_count": 15,
   "id": "689f783f-da4f-4dd4-80b6-faa480795c11",
   "metadata": {},
   "outputs": [],
   "source": [
    "reviews=[]\n",
    "for i in range(5):\n",
    "        mydict = {\"VideoLink\": str(first_5_video_links[i]),\"ThumbnailUrl\": str(thumbnail_list[i]),\"VideoTitle\": str(title_list[i]), \"Views\": str(views_list[i]), \"Time of Upload\": str(time_list[i])}\n",
    "        reviews.append(mydict)\n",
    "\n",
    "with open(\"Video_details.csv\", \"w\", newline='', encoding='utf-8') as fw:\n",
    "    headers = [\"VideoLink\",\"ThumbnailUrl\",\"VideoTitle\",\"Views\", \"Time of Upload\"]\n",
    "    writer = csv.DictWriter(fw, fieldnames=headers)\n",
    "    writer.writeheader()\n",
    "    writer.writerows(reviews)"
   ]
  },
  {
   "cell_type": "code",
   "execution_count": 16,
   "id": "f4849c47-205d-42c2-98d0-e044795db169",
   "metadata": {},
   "outputs": [
    {
     "name": "stdout",
     "output_type": "stream",
     "text": [
      "['VideoLink', 'ThumbnailUrl', 'VideoTitle', 'Views', 'Time of Upload']\n",
      "['https://www.youtube.com/watch?v=6gzDoIKlQvI', 'https://i.ytimg.com/vi/6gzDoIKlQvI/hqdefault.jpg?sqp=-oaymwEcCNACELwBSFXyq4qpAw4IARUAAIhCGAFwAcABBg==&rs=AOn4CLAIz04tcM2wrQlns2BbRNDr2XO5ig', 'UNBOXING of Science EXPERIMENT KIT for Class 8th to 10th 🤩🔥', '32K views', '2 days ago']\n",
      "['https://www.youtube.com/watch?v=W5XUcAkjFRk', 'https://i.ytimg.com/vi/W5XUcAkjFRk/hqdefault.jpg?sqp=-oaymwEcCNACELwBSFXyq4qpAw4IARUAAIhCGAFwAcABBg==&rs=AOn4CLCDS-hdTWy_GXBz2rBnD70ys6KpXQ', 'GURU PURNIMA Wishes to all our PWians !!❤️🙏🏻', '26K views', '6 days ago']\n",
      "['https://www.youtube.com/watch?v=h9ioLJRgZtw', 'https://i.ytimg.com/vi/h9ioLJRgZtw/hqdefault.jpg?sqp=-oaymwEcCNACELwBSFXyq4qpAw4IARUAAIhCGAFwAcABBg==&rs=AOn4CLB6W7jWsg9MdYIRSj238jXCyXlWfg', 'Full Marks का डर खत्म 😌 Complete Roadmap for MATHS 🔥 Class 10th BOARDS', '135K views', '2 weeks ago']\n",
      "['https://www.youtube.com/watch?v=JALxYbZ0zEg', 'https://i.ytimg.com/vi/JALxYbZ0zEg/hqdefault.jpg?sqp=-oaymwEcCNACELwBSFXyq4qpAw4IARUAAIhCGAFwAcABBg==&rs=AOn4CLB0izNZPVUxFpSgwiPXS3fPtvoA3A', 'UDAY 2.0 2025 Batch for Class 11th SCIENCE : सपनों की एक पहचान !! 🔥', '25K views', '2 weeks ago']\n",
      "['https://www.youtube.com/watch?v=8delcKigT7w', 'https://i.ytimg.com/vi/8delcKigT7w/hqdefault.jpg?sqp=-oaymwEcCNACELwBSFXyq4qpAw4IARUAAIhCGAFwAcABBg==&rs=AOn4CLD8gCQOjJMUHK2LNeSkK3w9FA3YFw', 'Arjuna JEE/NEET 3.0 2025 Batch किन बच्चों के लिए है ? 🤔🔥', '31K views', '2 weeks ago']\n"
     ]
    }
   ],
   "source": [
    "with open(\"Video_details.csv\",'r') as f:\n",
    "    read = csv.reader(f)\n",
    "    for i in read:\n",
    "        print(i)"
   ]
  },
  {
   "cell_type": "code",
   "execution_count": null,
   "id": "a1e2ef2c-7e2d-4aa7-bdab-b1f7d9721c79",
   "metadata": {},
   "outputs": [],
   "source": []
  }
 ],
 "metadata": {
  "kernelspec": {
   "display_name": "Python 3 (ipykernel)",
   "language": "python",
   "name": "python3"
  },
  "language_info": {
   "codemirror_mode": {
    "name": "ipython",
    "version": 3
   },
   "file_extension": ".py",
   "mimetype": "text/x-python",
   "name": "python",
   "nbconvert_exporter": "python",
   "pygments_lexer": "ipython3",
   "version": "3.11.5"
  }
 },
 "nbformat": 4,
 "nbformat_minor": 5
}
